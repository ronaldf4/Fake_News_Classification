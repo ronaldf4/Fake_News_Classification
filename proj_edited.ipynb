{
 "cells": [
  {
   "cell_type": "code",
   "execution_count": 3,
   "metadata": {},
   "outputs": [],
   "source": [
    "from IPython.core.interactiveshell import InteractiveShell\n",
    "InteractiveShell.ast_node_interactivity = \"all\"\n",
    "import pandas as pd\n",
    "import numpy as np\n",
    "import matplotlib.pyplot as plt\n",
    "import seaborn as sns\n",
    "%matplotlib inline\n",
    "from datetime import datetime\n",
    "import spacy\n",
    "import nltk\n",
    "#nlp = spacy.load('en')\n",
    "from nltk.corpus import stopwords\n",
    "stopWords = list(set(stopwords.words('english')))\n",
    "import string\n",
    "from wordcloud import WordCloud, STOPWORDS, ImageColorGenerator\n",
    "from PIL import Image"
   ]
  },
  {
   "cell_type": "code",
   "execution_count": 20,
   "metadata": {},
   "outputs": [],
   "source": [
    "fake = pd.read_csv('og_data/politifact_fake_statements.csv')\n",
    "real = pd.read_csv('og_data/real_news_headlines.csv')\n",
    "real_con = pd.read_csv('og_data/real_news.csv')\n",
    "fake_hl = pd.read_csv('og_data/Fake_only_statement.csv',index_col = 0)\n",
    "fake_con = pd.read_csv('og_data/Fake_only_body.csv')"
   ]
  },
  {
   "cell_type": "code",
   "execution_count": 21,
   "metadata": {},
   "outputs": [],
   "source": [
    "def date_format(data):\n",
    "#for idx,row in fake.iterrows():\n",
    "    date = data.split(',')\n",
    "    month = date[0].split()[0][:3].lower()\n",
    "    day = date[0].split()[1][:-2]\n",
    "    year = date[1][1:]\n",
    "    #print('{} {}, {}'.format(month,day,year))\n",
    "    final_string = month + ' ' + day + ', ' + year\n",
    "    final_date = datetime.strptime(final_string, '%b %d, %Y').strftime('%Y-%m-%d')\n",
    "    return final_date\n",
    "fake['date'] = fake['date'].apply(date_format)"
   ]
  },
  {
   "cell_type": "code",
   "execution_count": 22,
   "metadata": {},
   "outputs": [],
   "source": [
    "col = ['date','statement','label']\n",
    "real = real[col]"
   ]
  },
  {
   "cell_type": "code",
   "execution_count": 23,
   "metadata": {},
   "outputs": [],
   "source": [
    "def date_format2(data):\n",
    "#for idx,row in fake.iterrows():\n",
    "    final_string = data.lower()\n",
    "    final_date = datetime.strptime(final_string, '%b %d, %Y').strftime('%Y-%m-%d')\n",
    "    return final_date\n",
    "fake_hl['date'] = fake_hl['date'].apply(date_format2)"
   ]
  },
  {
   "cell_type": "code",
   "execution_count": 24,
   "metadata": {
    "scrolled": true
   },
   "outputs": [],
   "source": [
    "fake_news = pd.concat([fake,fake_hl.iloc[::10,:]],ignore_index=True)"
   ]
  },
  {
   "cell_type": "code",
   "execution_count": 25,
   "metadata": {},
   "outputs": [],
   "source": [
    "news_hl = pd.concat([real,fake_news],ignore_index=True)"
   ]
  },
  {
   "cell_type": "code",
   "execution_count": 26,
   "metadata": {},
   "outputs": [],
   "source": [
    "news_hl = news_hl.sort_values('date').reset_index(drop=True)"
   ]
  },
  {
   "cell_type": "code",
   "execution_count": 27,
   "metadata": {},
   "outputs": [
    {
     "data": {
      "text/plain": [
       "<matplotlib.axes._subplots.AxesSubplot at 0x14cfe4fcbe0>"
      ]
     },
     "execution_count": 27,
     "metadata": {},
     "output_type": "execute_result"
    },
    {
     "data": {
      "image/png": "[encoded data removed]",
      "text/plain": [
       "<Figure size 432x288 with 1 Axes>"
      ]
     },
     "metadata": {
      "needs_background": "light"
     },
     "output_type": "display_data"
    }
   ],
   "source": [
    "sns.countplot(news_hl['label'])"
   ]
  },
  {
   "cell_type": "code",
   "execution_count": 37,
   "metadata": {},
   "outputs": [
    {
     "name": "stdout",
     "output_type": "stream",
     "text": [
      "greatest\n",
      "most\n",
      "least\n",
      "Youngest\n",
      "best\n",
      "largest\n",
      "most\n",
      "best\n",
      "guest\n",
      "Best\n",
      "Best\n",
      "best\n",
      "least\n",
      "dishonest\n",
      "dumbest\n",
      "Most\n",
      "Most\n",
      "Most\n",
      "Most\n",
      "Most\n",
      "Most\n"
     ]
    }
   ],
   "source": [
    "sup_adj_count_fake = 0\n",
    "sup_adj_count_real = 0\n",
    "sup_advb_count_real = 0\n",
    "sup_advb_count_fake = 0\n",
    "\n",
    "temp = []\n",
    "for idx,rows in news_hl.iterrows():\n",
    "    tokens = nltk.word_tokenize(rows['statement'])\n",
    "    #temp.append(nltk.pos_tag(tokens))\n",
    "    temp2 = nltk.pos_tag(tokens)\n",
    "    if rows['label'] == 'fake':\n",
    "        for tag in temp2:\n",
    "            if tag[1] == 'JJS':\n",
    "                print(tag[0])\n",
    "                sup_adj_count_fake = sup_adj_count_fake + 1\n",
    "            if tag[1] == 'RBS':\n",
    "                print(tag[0])\n",
    "                sup_advb_count_fake = sup_advb_count_fake + 1\n",
    "    else:\n",
    "        for tag in temp2:\n",
    "            if tag[1] == 'JJS':\n",
    "                print(tag[0])\n",
    "                sup_adj_count_real = sup_adj_count_real + 1\n",
    "            if tag[1] == 'RBS':\n",
    "                print(tag[0])\n",
    "                sup_advb_count_real = sup_advb_count_real + 1"
   ]
  },
  {
   "cell_type": "code",
   "execution_count": 34,
   "metadata": {},
   "outputs": [
    {
     "data": {
      "text/plain": [
       "8"
      ]
     },
     "execution_count": 34,
     "metadata": {},
     "output_type": "execute_result"
    }
   ],
   "source": []
  },
  {
   "cell_type": "code",
   "execution_count": 13,
   "metadata": {},
   "outputs": [],
   "source": [
    "def rem(stat):\n",
    "    if stat.split()[0].lower() == 'says' or stat.split()[0].lower() == 'quotes':\n",
    "        new_stat = stat.split()[1:]\n",
    "        return ' '.join(new_stat)\n",
    "    else:\n",
    "        return stat\n",
    "\n",
    "\n",
    "news_hl['statement'] = news_hl['statement'].apply(rem)"
   ]
  },
  {
   "cell_type": "code",
   "execution_count": null,
   "metadata": {},
   "outputs": [],
   "source": [
    "def lem(stat):\n",
    "    temp = stat.lower().split()\n",
    "    word_list = []\n",
    "    for word in temp:\n",
    "        new_word = ''\n",
    "        for letter in word:\n",
    "            if letter not in string.punctuation:\n",
    "                new_word = new_word + letter\n",
    "        if new_word not in stopWords:\n",
    "            text = nlp(new_word)\n",
    "            if len(text) > 0:\n",
    "                if text[0].lemma_ != '-PRON-':\n",
    "                    word_list.append(text[0].lemma_)\n",
    "        \n",
    "    statement = ' '.join(word_list)\n",
    "    return statement\n",
    "\n",
    "news_hl['statement'] = news_hl['statement'].apply(lem)"
   ]
  },
  {
   "cell_type": "code",
   "execution_count": null,
   "metadata": {},
   "outputs": [],
   "source": [
    "t = list(news_hl['statement'].values)\n",
    "text = ' '.join(t)\n",
    "wordcloud = WordCloud(\n",
    "    width = 1600,\n",
    "    height = 1200,\n",
    "    background_color = 'black').generate(text)\n",
    "fig = plt.figure(\n",
    "    figsize = (16, 12),\n",
    "    facecolor = 'k',\n",
    "    edgecolor = 'k')\n",
    "plt.imshow(wordcloud, interpolation = 'bilinear')\n",
    "plt.axis('off')\n",
    "plt.tight_layout(pad=0)\n",
    "plt.show()"
   ]
  },
  {
   "cell_type": "code",
   "execution_count": null,
   "metadata": {},
   "outputs": [],
   "source": [
    "from sklearn.feature_extraction.text import TfidfVectorizer\n",
    "tfidf_vect = TfidfVectorizer() \n",
    "news_mat = tfidf_vect.fit_transform(news_hl['statement'])\n",
    "print(\"size of tfidf matrix:\", news_mat.shape)"
   ]
  },
  {
   "cell_type": "code",
   "execution_count": null,
   "metadata": {},
   "outputs": [],
   "source": [
    "from sklearn.feature_extraction.text import CountVectorizer\n",
    "vectorizer = CountVectorizer()\n",
    "data_corpus = news_hl[news_hl['label'] == 'fake']['statement']\n",
    "X = vectorizer.fit_transform(data_corpus) \n",
    "#print(X.toarray())\n",
    "#print(vectorizer.get_feature_names())\n",
    "\n",
    "fake_bow_df = pd.DataFrame(data=X.toarray(),columns =vectorizer.get_feature_names())"
   ]
  },
  {
   "cell_type": "code",
   "execution_count": null,
   "metadata": {},
   "outputs": [],
   "source": [
    "fake_bow_df.sum().nlargest(100).index"
   ]
  },
  {
   "cell_type": "code",
   "execution_count": 1,
   "metadata": {},
   "outputs": [
    {
     "data": {
      "text/plain": [
       "'c:\\\\program files (x86)\\\\python37-32\\\\python.exe'"
      ]
     },
     "execution_count": 1,
     "metadata": {},
     "output_type": "execute_result"
    }
   ],
   "source": [
    "import sys\n",
    "sys.executable"
   ]
  },
  {
   "cell_type": "code",
   "execution_count": null,
   "metadata": {},
   "outputs": [],
   "source": [
    "from sklearn.metrics import classification_report\n",
    "print(classification_report(y_test,pred))"
   ]
  }
 ],
 "metadata": {
  "kernelspec": {
   "display_name": "Python 3",
   "language": "python",
   "name": "python3"
  }
 },
 "nbformat": 4,
 "nbformat_minor": 2
}
